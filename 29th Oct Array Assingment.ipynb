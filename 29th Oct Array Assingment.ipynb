{
 "cells": [
  {
   "cell_type": "code",
   "execution_count": 5,
   "id": "dab27f19",
   "metadata": {},
   "outputs": [
    {
     "name": "stdout",
     "output_type": "stream",
     "text": [
      "this array contains duplicates\n"
     ]
    }
   ],
   "source": [
    "#1. Given an array, check if it contains any duplicates or not. \n",
    "def contains_duplicates(arr):\n",
    "    seen = set()\n",
    "    for element in arr:\n",
    "        if element in seen:\n",
    "            return True\n",
    "        seen.add(element)\n",
    "    return False\n",
    "            \n",
    "arr = [1, 2, 4, 2, 5, 9]\n",
    "if contains_duplicates(arr):\n",
    "    print(\"this array contains duplicates\")\n",
    "else:\n",
    "    print(\"this array doesn't contains dupicates\")"
   ]
  },
  {
   "cell_type": "code",
   "execution_count": 6,
   "id": "2c6cdd3f",
   "metadata": {},
   "outputs": [
    {
     "name": "stdout",
     "output_type": "stream",
     "text": [
      "[5, 6, 7, 1, 2, 3, 4]\n"
     ]
    }
   ],
   "source": [
    "#2. Given an array and an integer k, rotate the array to the right by k steps. \n",
    "def rotate(arr,k):\n",
    "    n=len(arr)\n",
    "    k=k % n\n",
    "    if k == 0:\n",
    "        return arr\n",
    "    rotated=[0] * n\n",
    "    for i in range(n):\n",
    "        rotated[(i+k) % n] = arr[i]\n",
    "    return rotated\n",
    "    \n",
    "arr = [1, 2, 3, 4, 5, 6, 7] \n",
    "k = 3\n",
    "rotated_arr=rotate(arr,k)\n",
    "print(rotated_arr)"
   ]
  },
  {
   "cell_type": "code",
   "execution_count": 9,
   "id": "9a0b20d8",
   "metadata": {},
   "outputs": [
    {
     "name": "stdout",
     "output_type": "stream",
     "text": [
      "[12, 9, 7, 5, 4, 2]\n"
     ]
    }
   ],
   "source": [
    "#3. Reverse the given array in-place, means without using any extra data structure. \n",
    "arr = [2, 4, 5, 7, 9, 12]\n",
    "print(arr[::-1])\n",
    "    "
   ]
  },
  {
   "cell_type": "code",
   "execution_count": 10,
   "id": "a96d8b9d",
   "metadata": {},
   "outputs": [
    {
     "name": "stdout",
     "output_type": "stream",
     "text": [
      "20\n"
     ]
    }
   ],
   "source": [
    "#4.Given an array of integers, find the maximum element in an array\n",
    "arr = [10, 5, 20, 8, 15]\n",
    "print(max(arr))"
   ]
  },
  {
   "cell_type": "code",
   "execution_count": 15,
   "id": "b78de4a8",
   "metadata": {},
   "outputs": [
    {
     "name": "stdout",
     "output_type": "stream",
     "text": [
      "[1, 2, 3, 4, 5]\n"
     ]
    }
   ],
   "source": [
    "#5.Given a sorted array, remove the duplicate element without using any extra data structure. \n",
    "def remove_duplicates(arr):\n",
    "    if not arr:\n",
    "        return 0\n",
    "    n=len(arr)\n",
    "    unique_index = 0\n",
    "    for i in range(1,n):\n",
    "        if arr[i] != arr[unique_index]:\n",
    "            unique_index+=1\n",
    "            arr[unique_index]=arr[i]\n",
    "    return unique_index + 1\n",
    "arr = [1, 1, 2, 2, 2, 3, 3, 4, 4, 4, 5, 5]\n",
    "new_length=remove_duplicates(arr)\n",
    "print(arr[:new_length])"
   ]
  },
  {
   "cell_type": "code",
   "execution_count": null,
   "id": "15a99adc",
   "metadata": {},
   "outputs": [],
   "source": []
  }
 ],
 "metadata": {
  "kernelspec": {
   "display_name": "Python 3 (ipykernel)",
   "language": "python",
   "name": "python3"
  },
  "language_info": {
   "codemirror_mode": {
    "name": "ipython",
    "version": 3
   },
   "file_extension": ".py",
   "mimetype": "text/x-python",
   "name": "python",
   "nbconvert_exporter": "python",
   "pygments_lexer": "ipython3",
   "version": "3.10.9"
  }
 },
 "nbformat": 4,
 "nbformat_minor": 5
}
